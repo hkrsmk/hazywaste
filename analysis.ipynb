{
 "cells": [
  {
   "cell_type": "code",
   "execution_count": 31,
   "metadata": {},
   "outputs": [],
   "source": [
    "import pandas as pd\n",
    "import numpy as np"
   ]
  },
  {
   "cell_type": "code",
   "execution_count": 47,
   "metadata": {},
   "outputs": [],
   "source": [
    "def get_postal_code():\n",
    "    # get pre-cleaned data\n",
    "    all_markets = pd.read_csv(\"data\\list-of-government-markets-hawker-centres.csv\")\n",
    "\n",
    "    # get relevant column\n",
    "    market_address = all_markets[\"location_of_centre\"]\n",
    "\n",
    "    # get 2-digit postal code\n",
    "    market_postal_code_first_two_digits = market_address.str[-7:-5]\n",
    "\n",
    "    # add 2 digit code to original data\n",
    "    all_markets[\"two_digit_postal_code\"] = market_postal_code_first_two_digits\n",
    "\n",
    "    # print(market_postal_code_first_two_digits)\n",
    "\n",
    "    # get food stalls and 2 digit code\n",
    "    data_required = all_markets[[\n",
    "        \"no_of_cooked_food_stalls\",\n",
    "        \"two_digit_postal_code\"\n",
    "        ]]\n",
    "\n",
    "    # makes a list of swcdc postal codes\n",
    "    swcdc_codes = pd.read_csv(\"data\\postal-codes-columns.csv\", squeeze = True).tolist()\n",
    "\n",
    "    # finds stalls in swcdc\n",
    "    # pass postal code as integer to compare with swcdc\n",
    "\n",
    "    isin_swcdc = data_required.two_digit_postal_code.astype('int').isin(swcdc_codes)\n",
    "\n",
    "    # store result in dataframe\n",
    "    data_required[\"isin_swcdc\"] = isin_swcdc\n",
    "    hawkers_in_swcdc = data_required.loc[data_required[\"isin_swcdc\"] == True]\n",
    "\n",
    "    # print(hawkers_in_swcdc)\n",
    "\n",
    "    # print(sum_in_swcdc)\n",
    "    # print(data_required)\n",
    "    # print(swcdc_codes)\n",
    "    return hawkers_in_swcdc"
   ]
  },
  {
   "cell_type": "code",
   "execution_count": 51,
   "metadata": {},
   "outputs": [
    {
     "output_type": "execute_result",
     "data": {
      "text/plain": "no_of_cooked_food_stalls    7.730000e+02\ntwo_digit_postal_code       1.161096e+31\nisin_swcdc                  1.600000e+01\ndtype: float64"
     },
     "metadata": {},
     "execution_count": 51
    }
   ],
   "source": [
    "get_postal_code().sum()"
   ]
  }
 ],
 "metadata": {
  "language_info": {
   "codemirror_mode": {
    "name": "ipython",
    "version": 3
   },
   "file_extension": ".py",
   "mimetype": "text/x-python",
   "name": "python",
   "nbconvert_exporter": "python",
   "pygments_lexer": "ipython3",
   "version": "3.7.4-final"
  },
  "orig_nbformat": 2,
  "kernelspec": {
   "name": "python3",
   "display_name": "Python 3"
  }
 },
 "nbformat": 4,
 "nbformat_minor": 2
}